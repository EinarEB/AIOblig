{
 "cells": [
  {
   "cell_type": "code",
   "execution_count": 1,
   "metadata": {},
   "outputs": [],
   "source": [
    "import pandas as panda\n",
    "import matplotlib\n",
    "from matplotlib import pyplot as plot\n",
    "from datetime import datetime, date\n",
    "import seaborn as sns"
   ]
  },
  {
   "cell_type": "code",
   "execution_count": 2,
   "metadata": {},
   "outputs": [],
   "source": [
    "columns = ['TurId','Dato','Fylke','Område','Kommune','Holdeplass_Fra','Holdeplass_Til','Linjetype','Linjefylke','Linjenavn','Linjeretning','Tidspunkt_Faktisk_Ankomst_Holdeplass_Fra','Tidspunkt_Faktisk_Avgang_Holdeplass_Fra','Tidspunkt_Planlagt_Ankomst_Holdeplass_Fra','Tidspunkt_Planlagt_Avgang_Holdeplass_Fra','Kjøretøy_Kapasitet','Passasjerer_Ombord']\n",
    "dataframe = panda.read_csv(\"/Users/einar/Intro_to_AI/assignment1/Ruter_data.csv\", sep=';', engine='python', encoding='UTF-8',names=columns)"
   ]
  },
  {
   "cell_type": "code",
   "execution_count": 3,
   "metadata": {},
   "outputs": [],
   "source": [
    "dataframe = dataframe.dropna()"
   ]
  },
  {
   "cell_type": "code",
   "execution_count": 4,
   "metadata": {
    "scrolled": true
   },
   "outputs": [
    {
     "data": {
      "text/html": [
       "<div>\n",
       "<style scoped>\n",
       "    .dataframe tbody tr th:only-of-type {\n",
       "        vertical-align: middle;\n",
       "    }\n",
       "\n",
       "    .dataframe tbody tr th {\n",
       "        vertical-align: top;\n",
       "    }\n",
       "\n",
       "    .dataframe thead th {\n",
       "        text-align: right;\n",
       "    }\n",
       "</style>\n",
       "<table border=\"1\" class=\"dataframe\">\n",
       "  <thead>\n",
       "    <tr style=\"text-align: right;\">\n",
       "      <th></th>\n",
       "      <th>TurId</th>\n",
       "      <th>Dato</th>\n",
       "      <th>Fylke</th>\n",
       "      <th>Område</th>\n",
       "      <th>Kommune</th>\n",
       "      <th>Holdeplass_Fra</th>\n",
       "      <th>Holdeplass_Til</th>\n",
       "      <th>Linjetype</th>\n",
       "      <th>Linjefylke</th>\n",
       "      <th>Linjenavn</th>\n",
       "      <th>Linjeretning</th>\n",
       "      <th>Tidspunkt_Faktisk_Ankomst_Holdeplass_Fra</th>\n",
       "      <th>Tidspunkt_Faktisk_Avgang_Holdeplass_Fra</th>\n",
       "      <th>Tidspunkt_Planlagt_Ankomst_Holdeplass_Fra</th>\n",
       "      <th>Tidspunkt_Planlagt_Avgang_Holdeplass_Fra</th>\n",
       "      <th>Kjøretøy_Kapasitet</th>\n",
       "      <th>Passasjerer_Ombord</th>\n",
       "    </tr>\n",
       "  </thead>\n",
       "  <tbody>\n",
       "    <tr>\n",
       "      <th>1</th>\n",
       "      <td>15006-2020-08-10T10:24:00+02:00</td>\n",
       "      <td>10/08/2020</td>\n",
       "      <td>Viken</td>\n",
       "      <td>Vest</td>\n",
       "      <td>Bærum</td>\n",
       "      <td>Nordliveien</td>\n",
       "      <td>Tjernsmyr</td>\n",
       "      <td>Lokal</td>\n",
       "      <td>Viken</td>\n",
       "      <td>150</td>\n",
       "      <td>0.0</td>\n",
       "      <td>10:53:53</td>\n",
       "      <td>10:53:59</td>\n",
       "      <td>10:53:00</td>\n",
       "      <td>10:53:00</td>\n",
       "      <td>112.0</td>\n",
       "      <td>5.0</td>\n",
       "    </tr>\n",
       "    <tr>\n",
       "      <th>2</th>\n",
       "      <td>15002-2020-08-15T12:54:00+02:00</td>\n",
       "      <td>15/08/2020</td>\n",
       "      <td>Viken</td>\n",
       "      <td>Vest</td>\n",
       "      <td>Bærum</td>\n",
       "      <td>Nadderud stadion</td>\n",
       "      <td>Bekkestua bussterminal (Plattform C)</td>\n",
       "      <td>Lokal</td>\n",
       "      <td>Viken</td>\n",
       "      <td>150</td>\n",
       "      <td>0.0</td>\n",
       "      <td>13:12:20</td>\n",
       "      <td>13:12:26</td>\n",
       "      <td>13:12:00</td>\n",
       "      <td>13:12:00</td>\n",
       "      <td>112.0</td>\n",
       "      <td>5.0</td>\n",
       "    </tr>\n",
       "    <tr>\n",
       "      <th>3</th>\n",
       "      <td>15004-2020-08-03T09:54:00+02:00</td>\n",
       "      <td>03/08/2020</td>\n",
       "      <td>Viken</td>\n",
       "      <td>Vest</td>\n",
       "      <td>Bærum</td>\n",
       "      <td>Ringstabekkveien</td>\n",
       "      <td>Skallum</td>\n",
       "      <td>Lokal</td>\n",
       "      <td>Viken</td>\n",
       "      <td>150</td>\n",
       "      <td>0.0</td>\n",
       "      <td>10:18:56</td>\n",
       "      <td>10:19:21</td>\n",
       "      <td>10:19:00</td>\n",
       "      <td>10:19:00</td>\n",
       "      <td>112.0</td>\n",
       "      <td>6.0</td>\n",
       "    </tr>\n",
       "    <tr>\n",
       "      <th>4</th>\n",
       "      <td>15003-2020-07-27T13:00:00+02:00</td>\n",
       "      <td>27/07/2020</td>\n",
       "      <td>Viken</td>\n",
       "      <td>Vest</td>\n",
       "      <td>Bærum</td>\n",
       "      <td>Gruvemyra</td>\n",
       "      <td>Gullhaug</td>\n",
       "      <td>Lokal</td>\n",
       "      <td>Viken</td>\n",
       "      <td>150</td>\n",
       "      <td>1.0</td>\n",
       "      <td>13:52:04</td>\n",
       "      <td>13:52:26</td>\n",
       "      <td>13:51:00</td>\n",
       "      <td>13:51:00</td>\n",
       "      <td>112.0</td>\n",
       "      <td>10.0</td>\n",
       "    </tr>\n",
       "    <tr>\n",
       "      <th>5</th>\n",
       "      <td>15002-2020-08-27T07:15:00+02:00</td>\n",
       "      <td>27/08/2020</td>\n",
       "      <td>Viken</td>\n",
       "      <td>Vest</td>\n",
       "      <td>Bærum</td>\n",
       "      <td>Lysaker stasjon (Plattform A)</td>\n",
       "      <td>Tjernsmyr</td>\n",
       "      <td>Lokal</td>\n",
       "      <td>Viken</td>\n",
       "      <td>150</td>\n",
       "      <td>1.0</td>\n",
       "      <td>07:34:13</td>\n",
       "      <td>07:34:53</td>\n",
       "      <td>07:33:00</td>\n",
       "      <td>07:33:00</td>\n",
       "      <td>112.0</td>\n",
       "      <td>10.0</td>\n",
       "    </tr>\n",
       "    <tr>\n",
       "      <th>...</th>\n",
       "      <td>...</td>\n",
       "      <td>...</td>\n",
       "      <td>...</td>\n",
       "      <td>...</td>\n",
       "      <td>...</td>\n",
       "      <td>...</td>\n",
       "      <td>...</td>\n",
       "      <td>...</td>\n",
       "      <td>...</td>\n",
       "      <td>...</td>\n",
       "      <td>...</td>\n",
       "      <td>...</td>\n",
       "      <td>...</td>\n",
       "      <td>...</td>\n",
       "      <td>...</td>\n",
       "      <td>...</td>\n",
       "      <td>...</td>\n",
       "    </tr>\n",
       "    <tr>\n",
       "      <th>5996</th>\n",
       "      <td>10001-2020-06-10T15:10:00+02:00</td>\n",
       "      <td>10/06/2020</td>\n",
       "      <td>Viken</td>\n",
       "      <td>Nordøst</td>\n",
       "      <td>Lillestrøm</td>\n",
       "      <td>Brauterkrysset</td>\n",
       "      <td>Nordsnoveien</td>\n",
       "      <td>Lokal</td>\n",
       "      <td>Viken</td>\n",
       "      <td>100</td>\n",
       "      <td>1.0</td>\n",
       "      <td>16:23:18</td>\n",
       "      <td>16:23:48</td>\n",
       "      <td>16:10:00</td>\n",
       "      <td>16:10:00</td>\n",
       "      <td>151.0</td>\n",
       "      <td>2.0</td>\n",
       "    </tr>\n",
       "    <tr>\n",
       "      <th>5997</th>\n",
       "      <td>10010-2020-06-23T05:54:00+02:00</td>\n",
       "      <td>23/06/2020</td>\n",
       "      <td>Viken</td>\n",
       "      <td>Nordøst</td>\n",
       "      <td>Lillestrøm</td>\n",
       "      <td>Vestbygata</td>\n",
       "      <td>Bjørnsons gate</td>\n",
       "      <td>Lokal</td>\n",
       "      <td>Viken</td>\n",
       "      <td>100</td>\n",
       "      <td>0.0</td>\n",
       "      <td>06:00:32</td>\n",
       "      <td>06:00:40</td>\n",
       "      <td>05:59:00</td>\n",
       "      <td>05:59:00</td>\n",
       "      <td>151.0</td>\n",
       "      <td>2.0</td>\n",
       "    </tr>\n",
       "    <tr>\n",
       "      <th>5998</th>\n",
       "      <td>2007-2020-06-11T17:22:00+02:00</td>\n",
       "      <td>11/06/2020</td>\n",
       "      <td>Oslo</td>\n",
       "      <td>Indre By</td>\n",
       "      <td>Sagene</td>\n",
       "      <td>Torshovparken  (mot Torshovparken)</td>\n",
       "      <td>Torshov  (mot Bentsebrua)</td>\n",
       "      <td>Lokal</td>\n",
       "      <td>Oslo</td>\n",
       "      <td>20</td>\n",
       "      <td>1.0</td>\n",
       "      <td>17:42:43</td>\n",
       "      <td>17:43:10</td>\n",
       "      <td>17:32:00</td>\n",
       "      <td>17:32:00</td>\n",
       "      <td>106.0</td>\n",
       "      <td>3.0</td>\n",
       "    </tr>\n",
       "    <tr>\n",
       "      <th>5999</th>\n",
       "      <td>10004-2020-08-13T04:59:00+02:00</td>\n",
       "      <td>13/08/2020</td>\n",
       "      <td>Oslo</td>\n",
       "      <td>Indre By</td>\n",
       "      <td>Gamle Oslo</td>\n",
       "      <td>Harald Hårdrådes plass  (mot Grønland)</td>\n",
       "      <td>Oslo gate  (mot Grønland)</td>\n",
       "      <td>Lokal</td>\n",
       "      <td>Viken</td>\n",
       "      <td>100</td>\n",
       "      <td>0.0</td>\n",
       "      <td>06:00:11</td>\n",
       "      <td>06:00:23</td>\n",
       "      <td>05:59:00</td>\n",
       "      <td>05:59:00</td>\n",
       "      <td>151.0</td>\n",
       "      <td>5.0</td>\n",
       "    </tr>\n",
       "    <tr>\n",
       "      <th>6000</th>\n",
       "      <td>34013-2020-08-05T13:31:00+02:00</td>\n",
       "      <td>05/08/2020</td>\n",
       "      <td>Viken</td>\n",
       "      <td>Nordøst</td>\n",
       "      <td>Lillestrøm</td>\n",
       "      <td>Tandberg</td>\n",
       "      <td>Selmer</td>\n",
       "      <td>Lokal</td>\n",
       "      <td>Viken</td>\n",
       "      <td>340</td>\n",
       "      <td>1.0</td>\n",
       "      <td>13:52:44</td>\n",
       "      <td>13:52:48</td>\n",
       "      <td>13:50:00</td>\n",
       "      <td>13:50:00</td>\n",
       "      <td>105.0</td>\n",
       "      <td>-5.0</td>\n",
       "    </tr>\n",
       "  </tbody>\n",
       "</table>\n",
       "<p>6000 rows × 17 columns</p>\n",
       "</div>"
      ],
      "text/plain": [
       "                                TurId        Dato  Fylke    Område  \\\n",
       "1     15006-2020-08-10T10:24:00+02:00  10/08/2020  Viken      Vest   \n",
       "2     15002-2020-08-15T12:54:00+02:00  15/08/2020  Viken      Vest   \n",
       "3     15004-2020-08-03T09:54:00+02:00  03/08/2020  Viken      Vest   \n",
       "4     15003-2020-07-27T13:00:00+02:00  27/07/2020  Viken      Vest   \n",
       "5     15002-2020-08-27T07:15:00+02:00  27/08/2020  Viken      Vest   \n",
       "...                               ...         ...    ...       ...   \n",
       "5996  10001-2020-06-10T15:10:00+02:00  10/06/2020  Viken   Nordøst   \n",
       "5997  10010-2020-06-23T05:54:00+02:00  23/06/2020  Viken   Nordøst   \n",
       "5998   2007-2020-06-11T17:22:00+02:00  11/06/2020   Oslo  Indre By   \n",
       "5999  10004-2020-08-13T04:59:00+02:00  13/08/2020   Oslo  Indre By   \n",
       "6000  34013-2020-08-05T13:31:00+02:00  05/08/2020  Viken   Nordøst   \n",
       "\n",
       "         Kommune                          Holdeplass_Fra  \\\n",
       "1          Bærum                             Nordliveien   \n",
       "2          Bærum                        Nadderud stadion   \n",
       "3          Bærum                        Ringstabekkveien   \n",
       "4          Bærum                               Gruvemyra   \n",
       "5          Bærum           Lysaker stasjon (Plattform A)   \n",
       "...          ...                                     ...   \n",
       "5996  Lillestrøm                          Brauterkrysset   \n",
       "5997  Lillestrøm                              Vestbygata   \n",
       "5998      Sagene      Torshovparken  (mot Torshovparken)   \n",
       "5999  Gamle Oslo  Harald Hårdrådes plass  (mot Grønland)   \n",
       "6000  Lillestrøm                                Tandberg   \n",
       "\n",
       "                            Holdeplass_Til Linjetype Linjefylke Linjenavn  \\\n",
       "1                                Tjernsmyr     Lokal      Viken       150   \n",
       "2     Bekkestua bussterminal (Plattform C)     Lokal      Viken       150   \n",
       "3                                  Skallum     Lokal      Viken       150   \n",
       "4                                 Gullhaug     Lokal      Viken       150   \n",
       "5                                Tjernsmyr     Lokal      Viken       150   \n",
       "...                                    ...       ...        ...       ...   \n",
       "5996                          Nordsnoveien     Lokal      Viken       100   \n",
       "5997                        Bjørnsons gate     Lokal      Viken       100   \n",
       "5998             Torshov  (mot Bentsebrua)     Lokal       Oslo        20   \n",
       "5999             Oslo gate  (mot Grønland)     Lokal      Viken       100   \n",
       "6000                                Selmer     Lokal      Viken       340   \n",
       "\n",
       "      Linjeretning Tidspunkt_Faktisk_Ankomst_Holdeplass_Fra  \\\n",
       "1              0.0                                 10:53:53   \n",
       "2              0.0                                 13:12:20   \n",
       "3              0.0                                 10:18:56   \n",
       "4              1.0                                 13:52:04   \n",
       "5              1.0                                 07:34:13   \n",
       "...            ...                                      ...   \n",
       "5996           1.0                                 16:23:18   \n",
       "5997           0.0                                 06:00:32   \n",
       "5998           1.0                                 17:42:43   \n",
       "5999           0.0                                 06:00:11   \n",
       "6000           1.0                                 13:52:44   \n",
       "\n",
       "     Tidspunkt_Faktisk_Avgang_Holdeplass_Fra  \\\n",
       "1                                   10:53:59   \n",
       "2                                   13:12:26   \n",
       "3                                   10:19:21   \n",
       "4                                   13:52:26   \n",
       "5                                   07:34:53   \n",
       "...                                      ...   \n",
       "5996                                16:23:48   \n",
       "5997                                06:00:40   \n",
       "5998                                17:43:10   \n",
       "5999                                06:00:23   \n",
       "6000                                13:52:48   \n",
       "\n",
       "     Tidspunkt_Planlagt_Ankomst_Holdeplass_Fra  \\\n",
       "1                                     10:53:00   \n",
       "2                                     13:12:00   \n",
       "3                                     10:19:00   \n",
       "4                                     13:51:00   \n",
       "5                                     07:33:00   \n",
       "...                                        ...   \n",
       "5996                                  16:10:00   \n",
       "5997                                  05:59:00   \n",
       "5998                                  17:32:00   \n",
       "5999                                  05:59:00   \n",
       "6000                                  13:50:00   \n",
       "\n",
       "     Tidspunkt_Planlagt_Avgang_Holdeplass_Fra  Kjøretøy_Kapasitet  \\\n",
       "1                                    10:53:00               112.0   \n",
       "2                                    13:12:00               112.0   \n",
       "3                                    10:19:00               112.0   \n",
       "4                                    13:51:00               112.0   \n",
       "5                                    07:33:00               112.0   \n",
       "...                                       ...                 ...   \n",
       "5996                                 16:10:00               151.0   \n",
       "5997                                 05:59:00               151.0   \n",
       "5998                                 17:32:00               106.0   \n",
       "5999                                 05:59:00               151.0   \n",
       "6000                                 13:50:00               105.0   \n",
       "\n",
       "      Passasjerer_Ombord  \n",
       "1                    5.0  \n",
       "2                    5.0  \n",
       "3                    6.0  \n",
       "4                   10.0  \n",
       "5                   10.0  \n",
       "...                  ...  \n",
       "5996                 2.0  \n",
       "5997                 2.0  \n",
       "5998                 3.0  \n",
       "5999                 5.0  \n",
       "6000                -5.0  \n",
       "\n",
       "[6000 rows x 17 columns]"
      ]
     },
     "execution_count": 4,
     "metadata": {},
     "output_type": "execute_result"
    }
   ],
   "source": [
    "dataframe"
   ]
  },
  {
   "cell_type": "code",
   "execution_count": 5,
   "metadata": {},
   "outputs": [
    {
     "data": {
      "text/plain": [
       "(6000, 17)"
      ]
     },
     "execution_count": 5,
     "metadata": {},
     "output_type": "execute_result"
    }
   ],
   "source": [
    "dataframe.shape"
   ]
  },
  {
   "cell_type": "code",
   "execution_count": 6,
   "metadata": {
    "scrolled": true
   },
   "outputs": [
    {
     "data": {
      "text/plain": [
       "<matplotlib.axes._subplots.AxesSubplot at 0x7fbb12f693a0>"
      ]
     },
     "execution_count": 6,
     "metadata": {},
     "output_type": "execute_result"
    },
    {
     "data": {
      "image/png": "[encoded data removed]",
      "text/plain": [
       "<Figure size 432x288 with 1 Axes>"
      ]
     },
     "metadata": {
      "needs_background": "light"
     },
     "output_type": "display_data"
    }
   ],
   "source": [
    "sns.countplot(x='Fylke', data=dataframe)"
   ]
  },
  {
   "cell_type": "code",
   "execution_count": 7,
   "metadata": {
    "scrolled": false
   },
   "outputs": [
    {
     "data": {
      "text/plain": [
       "<matplotlib.axes._subplots.AxesSubplot at 0x7fbb13359c70>"
      ]
     },
     "execution_count": 7,
     "metadata": {},
     "output_type": "execute_result"
    },
    {
     "data": {
      "image/png": "[encoded data removed]",
      "text/plain": [
       "<Figure size 432x288 with 1 Axes>"
      ]
     },
     "metadata": {
      "needs_background": "light"
     },
     "output_type": "display_data"
    }
   ],
   "source": [
    "sns.countplot(x='Område', data=dataframe)"
   ]
  },
  {
   "cell_type": "code",
   "execution_count": 8,
   "metadata": {},
   "outputs": [
    {
     "data": {
      "text/plain": [
       "(array([ 0,  1,  2,  3,  4,  5,  6,  7,  8,  9, 10, 11, 12, 13, 14, 15, 16,\n",
       "        17, 18, 19, 20, 21, 22, 23, 24, 25, 26, 27, 28, 29, 30, 31, 32, 33]),\n",
       " <a list of 34 Text major ticklabel objects>)"
      ]
     },
     "execution_count": 8,
     "metadata": {},
     "output_type": "execute_result"
    },
    {
     "data": {
      "image/png": "[encoded data removed]",
      "text/plain": [
       "<Figure size 432x288 with 1 Axes>"
      ]
     },
     "metadata": {
      "needs_background": "light"
     },
     "output_type": "display_data"
    }
   ],
   "source": [
    "sns.countplot(x='Kommune', data=dataframe)\n",
    "plot.xticks(rotation=90)"
   ]
  },
  {
   "cell_type": "markdown",
   "metadata": {},
   "source": [
    "## Extracting date information"
   ]
  },
  {
   "cell_type": "code",
   "execution_count": 9,
   "metadata": {},
   "outputs": [
    {
     "data": {
      "text/plain": [
       "<matplotlib.axes._subplots.AxesSubplot at 0x7fbb13600160>"
      ]
     },
     "execution_count": 9,
     "metadata": {},
     "output_type": "execute_result"
    },
    {
     "data": {
      "image/png": "[encoded data removed]",
      "text/plain": [
       "<Figure size 432x288 with 1 Axes>"
      ]
     },
     "metadata": {
      "needs_background": "light"
     },
     "output_type": "display_data"
    }
   ],
   "source": [
    "dataframe['Dato'] = panda.to_datetime(dataframe['Dato'])\n",
    "dataframe['Ukedag'] = dataframe['Dato'].dt.day_name()\n",
    "sns.countplot(x='Ukedag', data=dataframe)"
   ]
  },
  {
   "cell_type": "code",
   "execution_count": 10,
   "metadata": {},
   "outputs": [],
   "source": [
    "dataframe['Måned'] = panda.to_datetime(dataframe.Dato, format='%d/%m/%Y').dt.month_name()"
   ]
  },
  {
   "cell_type": "code",
   "execution_count": 11,
   "metadata": {
    "scrolled": false
   },
   "outputs": [
    {
     "data": {
      "text/plain": [
       "(array([ 0,  1,  2,  3,  4,  5,  6,  7,  8,  9, 10, 11]),\n",
       " <a list of 12 Text major ticklabel objects>)"
      ]
     },
     "execution_count": 11,
     "metadata": {},
     "output_type": "execute_result"
    },
    {
     "data": {
      "image/png": "[encoded data removed]",
      "text/plain": [
       "<Figure size 432x288 with 1 Axes>"
      ]
     },
     "metadata": {
      "needs_background": "light"
     },
     "output_type": "display_data"
    }
   ],
   "source": [
    "sns.countplot(x='Måned', data=dataframe)\n",
    "plot.xticks(rotation=90)"
   ]
  },
  {
   "cell_type": "code",
   "execution_count": 12,
   "metadata": {},
   "outputs": [
    {
     "data": {
      "text/html": [
       "<div>\n",
       "<style scoped>\n",
       "    .dataframe tbody tr th:only-of-type {\n",
       "        vertical-align: middle;\n",
       "    }\n",
       "\n",
       "    .dataframe tbody tr th {\n",
       "        vertical-align: top;\n",
       "    }\n",
       "\n",
       "    .dataframe thead th {\n",
       "        text-align: right;\n",
       "    }\n",
       "</style>\n",
       "<table border=\"1\" class=\"dataframe\">\n",
       "  <thead>\n",
       "    <tr style=\"text-align: right;\">\n",
       "      <th></th>\n",
       "      <th>Linjeretning</th>\n",
       "      <th>Kjøretøy_Kapasitet</th>\n",
       "      <th>Passasjerer_Ombord</th>\n",
       "    </tr>\n",
       "  </thead>\n",
       "  <tbody>\n",
       "    <tr>\n",
       "      <th>Linjeretning</th>\n",
       "      <td>1.000000</td>\n",
       "      <td>0.020337</td>\n",
       "      <td>-0.042414</td>\n",
       "    </tr>\n",
       "    <tr>\n",
       "      <th>Kjøretøy_Kapasitet</th>\n",
       "      <td>0.020337</td>\n",
       "      <td>1.000000</td>\n",
       "      <td>0.129959</td>\n",
       "    </tr>\n",
       "    <tr>\n",
       "      <th>Passasjerer_Ombord</th>\n",
       "      <td>-0.042414</td>\n",
       "      <td>0.129959</td>\n",
       "      <td>1.000000</td>\n",
       "    </tr>\n",
       "  </tbody>\n",
       "</table>\n",
       "</div>"
      ],
      "text/plain": [
       "                    Linjeretning  Kjøretøy_Kapasitet  Passasjerer_Ombord\n",
       "Linjeretning            1.000000            0.020337           -0.042414\n",
       "Kjøretøy_Kapasitet      0.020337            1.000000            0.129959\n",
       "Passasjerer_Ombord     -0.042414            0.129959            1.000000"
      ]
     },
     "execution_count": 12,
     "metadata": {},
     "output_type": "execute_result"
    }
   ],
   "source": [
    "datafram_corr = dataframe.corr()\n",
    "datafram_corr"
   ]
  },
  {
   "cell_type": "code",
   "execution_count": 13,
   "metadata": {},
   "outputs": [
    {
     "data": {
      "text/html": [
       "<div>\n",
       "<style scoped>\n",
       "    .dataframe tbody tr th:only-of-type {\n",
       "        vertical-align: middle;\n",
       "    }\n",
       "\n",
       "    .dataframe tbody tr th {\n",
       "        vertical-align: top;\n",
       "    }\n",
       "\n",
       "    .dataframe thead th {\n",
       "        text-align: right;\n",
       "    }\n",
       "</style>\n",
       "<table border=\"1\" class=\"dataframe\">\n",
       "  <thead>\n",
       "    <tr style=\"text-align: right;\">\n",
       "      <th></th>\n",
       "      <th>count</th>\n",
       "      <th>mean</th>\n",
       "      <th>std</th>\n",
       "      <th>min</th>\n",
       "      <th>25%</th>\n",
       "      <th>50%</th>\n",
       "      <th>75%</th>\n",
       "      <th>max</th>\n",
       "    </tr>\n",
       "  </thead>\n",
       "  <tbody>\n",
       "    <tr>\n",
       "      <th>Linjeretning</th>\n",
       "      <td>6000.0</td>\n",
       "      <td>0.492000</td>\n",
       "      <td>0.499978</td>\n",
       "      <td>0.0</td>\n",
       "      <td>0.0</td>\n",
       "      <td>0.0</td>\n",
       "      <td>1.0</td>\n",
       "      <td>1.0</td>\n",
       "    </tr>\n",
       "    <tr>\n",
       "      <th>Kjøretøy_Kapasitet</th>\n",
       "      <td>6000.0</td>\n",
       "      <td>104.712167</td>\n",
       "      <td>24.225196</td>\n",
       "      <td>33.0</td>\n",
       "      <td>80.0</td>\n",
       "      <td>106.0</td>\n",
       "      <td>112.0</td>\n",
       "      <td>151.0</td>\n",
       "    </tr>\n",
       "    <tr>\n",
       "      <th>Passasjerer_Ombord</th>\n",
       "      <td>6000.0</td>\n",
       "      <td>4.512833</td>\n",
       "      <td>6.735730</td>\n",
       "      <td>-39.0</td>\n",
       "      <td>0.0</td>\n",
       "      <td>3.0</td>\n",
       "      <td>7.0</td>\n",
       "      <td>64.0</td>\n",
       "    </tr>\n",
       "  </tbody>\n",
       "</table>\n",
       "</div>"
      ],
      "text/plain": [
       "                     count        mean        std   min   25%    50%    75%  \\\n",
       "Linjeretning        6000.0    0.492000   0.499978   0.0   0.0    0.0    1.0   \n",
       "Kjøretøy_Kapasitet  6000.0  104.712167  24.225196  33.0  80.0  106.0  112.0   \n",
       "Passasjerer_Ombord  6000.0    4.512833   6.735730 -39.0   0.0    3.0    7.0   \n",
       "\n",
       "                      max  \n",
       "Linjeretning          1.0  \n",
       "Kjøretøy_Kapasitet  151.0  \n",
       "Passasjerer_Ombord   64.0  "
      ]
     },
     "execution_count": 13,
     "metadata": {},
     "output_type": "execute_result"
    }
   ],
   "source": [
    "dataframe.describe().transpose()"
   ]
  },
  {
   "cell_type": "code",
   "execution_count": 14,
   "metadata": {},
   "outputs": [
    {
     "data": {
      "text/plain": [
       "<matplotlib.axes._subplots.AxesSubplot at 0x7fbb137cadc0>"
      ]
     },
     "execution_count": 14,
     "metadata": {},
     "output_type": "execute_result"
    },
    {
     "data": {
      "image/png": "[encoded data removed]",
      "text/plain": [
       "<Figure size 864x576 with 2 Axes>"
      ]
     },
     "metadata": {
      "needs_background": "light"
     },
     "output_type": "display_data"
    }
   ],
   "source": [
    "fig, ax = plot.subplots(figsize = (12,8))\n",
    "sns.heatmap(datafram_corr,annot = True)"
   ]
  },
  {
   "cell_type": "code",
   "execution_count": 15,
   "metadata": {},
   "outputs": [
    {
     "data": {
      "text/plain": [
       "<matplotlib.axes._subplots.AxesSubplot at 0x7fbb13ce3f40>"
      ]
     },
     "execution_count": 15,
     "metadata": {},
     "output_type": "execute_result"
    },
    {
     "data": {
      "image/png": "[encoded data removed]",
      "text/plain": [
       "<Figure size 864x576 with 1 Axes>"
      ]
     },
     "metadata": {
      "needs_background": "light"
     },
     "output_type": "display_data"
    }
   ],
   "source": [
    "dataframe.plot.scatter(x='Kjøretøy_Kapasitet', y='Passasjerer_Ombord', figsize = (12,8))"
   ]
  },
  {
   "cell_type": "code",
   "execution_count": 16,
   "metadata": {
    "scrolled": true
   },
   "outputs": [
    {
     "data": {
      "image/png": "[encoded data removed]",
      "text/plain": [
       "<Figure size 720x504 with 1 Axes>"
      ]
     },
     "metadata": {
      "needs_background": "light"
     },
     "output_type": "display_data"
    }
   ],
   "source": [
    "boxplot = dataframe.boxplot(grid=False,rot=65,figsize=(10,7));"
   ]
  },
  {
   "cell_type": "markdown",
   "metadata": {},
   "source": [
    "## Using binning to group Kjøretøy_Kapasitet"
   ]
  },
  {
   "cell_type": "code",
   "execution_count": 17,
   "metadata": {
    "scrolled": false
   },
   "outputs": [
    {
     "data": {
      "image/png": "[encoded data removed]",
      "text/plain": [
       "<Figure size 720x576 with 1 Axes>"
      ]
     },
     "metadata": {
      "needs_background": "light"
     },
     "output_type": "display_data"
    }
   ],
   "source": [
    "dataframe['Kjøretøy_Kapasitet'].plot.hist(bins=20,figsize=(10,8));"
   ]
  },
  {
   "cell_type": "code",
   "execution_count": 18,
   "metadata": {},
   "outputs": [],
   "source": [
    "dataframe['Kjøretøy_Gruppering'] = panda.cut(dataframe['Kjøretøy_Kapasitet'], bins=[0,60,100,160], labels=[\"Liten\", \"Medium\", \"Stor\"])"
   ]
  },
  {
   "cell_type": "code",
   "execution_count": 19,
   "metadata": {},
   "outputs": [
    {
     "data": {
      "text/plain": [
       "TurId                                        5953\n",
       "Dato                                           90\n",
       "Fylke                                           2\n",
       "Område                                          4\n",
       "Kommune                                        34\n",
       "Holdeplass_Fra                               1632\n",
       "Holdeplass_Til                               1638\n",
       "Linjetype                                       4\n",
       "Linjefylke                                      2\n",
       "Linjenavn                                     150\n",
       "Linjeretning                                    2\n",
       "Tidspunkt_Faktisk_Ankomst_Holdeplass_Fra     5677\n",
       "Tidspunkt_Faktisk_Avgang_Holdeplass_Fra      5749\n",
       "Tidspunkt_Planlagt_Ankomst_Holdeplass_Fra    1201\n",
       "Tidspunkt_Planlagt_Avgang_Holdeplass_Fra     1201\n",
       "Kjøretøy_Kapasitet                             18\n",
       "Passasjerer_Ombord                             70\n",
       "Ukedag                                          7\n",
       "Måned                                          12\n",
       "Kjøretøy_Gruppering                             3\n",
       "dtype: int64"
      ]
     },
     "execution_count": 19,
     "metadata": {},
     "output_type": "execute_result"
    }
   ],
   "source": [
    "dataframe.nunique()"
   ]
  },
  {
   "cell_type": "markdown",
   "metadata": {},
   "source": [
    "## Checking for missing values to use imputation on"
   ]
  },
  {
   "cell_type": "code",
   "execution_count": 20,
   "metadata": {},
   "outputs": [
    {
     "data": {
      "text/plain": [
       "TurId                                        0\n",
       "Dato                                         0\n",
       "Fylke                                        0\n",
       "Område                                       0\n",
       "Kommune                                      0\n",
       "Holdeplass_Fra                               0\n",
       "Holdeplass_Til                               0\n",
       "Linjetype                                    0\n",
       "Linjefylke                                   0\n",
       "Linjenavn                                    0\n",
       "Linjeretning                                 0\n",
       "Tidspunkt_Faktisk_Ankomst_Holdeplass_Fra     0\n",
       "Tidspunkt_Faktisk_Avgang_Holdeplass_Fra      0\n",
       "Tidspunkt_Planlagt_Ankomst_Holdeplass_Fra    0\n",
       "Tidspunkt_Planlagt_Avgang_Holdeplass_Fra     0\n",
       "Kjøretøy_Kapasitet                           0\n",
       "Passasjerer_Ombord                           0\n",
       "Ukedag                                       0\n",
       "Måned                                        0\n",
       "Kjøretøy_Gruppering                          0\n",
       "dtype: int64"
      ]
     },
     "execution_count": 20,
     "metadata": {},
     "output_type": "execute_result"
    }
   ],
   "source": [
    "dataframe.isnull().sum()"
   ]
  },
  {
   "cell_type": "markdown",
   "metadata": {},
   "source": [
    "## No missing values. Therefore there is no need to do imputation\n",
    "\n",
    "## Using One-Hot encoding on Ukedag and Fylke"
   ]
  },
  {
   "cell_type": "code",
   "execution_count": 21,
   "metadata": {},
   "outputs": [],
   "source": [
    "encoded_columns = panda.get_dummies(dataframe['Ukedag'])\n",
    "dataframe = dataframe.join(encoded_columns).drop('Ukedag', axis=1)"
   ]
  },
  {
   "cell_type": "code",
   "execution_count": 22,
   "metadata": {},
   "outputs": [],
   "source": [
    "encoded_columns = panda.get_dummies(dataframe['Fylke'])\n",
    "dataframe = dataframe.join(encoded_columns).drop('Fylke', axis=1)"
   ]
  },
  {
   "cell_type": "markdown",
   "metadata": {},
   "source": [
    "## Removing outliers for Kjøretøy_Kapasitet in a new dataframe"
   ]
  },
  {
   "cell_type": "code",
   "execution_count": 23,
   "metadata": {},
   "outputs": [
    {
     "data": {
      "text/plain": [
       "151.0"
      ]
     },
     "execution_count": 23,
     "metadata": {},
     "output_type": "execute_result"
    }
   ],
   "source": [
    "thresold_max = dataframe['Kjøretøy_Kapasitet'].quantile(0.95)\n",
    "thresold_max"
   ]
  },
  {
   "cell_type": "code",
   "execution_count": 24,
   "metadata": {},
   "outputs": [
    {
     "data": {
      "text/plain": [
       "70.0"
      ]
     },
     "execution_count": 24,
     "metadata": {},
     "output_type": "execute_result"
    }
   ],
   "source": [
    "thresold_min = dataframe['Kjøretøy_Kapasitet'].quantile(0.05) \n",
    "thresold_min"
   ]
  },
  {
   "cell_type": "code",
   "execution_count": 25,
   "metadata": {},
   "outputs": [
    {
     "data": {
      "text/plain": [
       "(4995, 27)"
      ]
     },
     "execution_count": 25,
     "metadata": {},
     "output_type": "execute_result"
    }
   ],
   "source": [
    "new_dataframe=dataframe[(dataframe['Kjøretøy_Kapasitet']<thresold_max) & (dataframe['Kjøretøy_Kapasitet']>thresold_min)]\n",
    "new_dataframe.shape"
   ]
  },
  {
   "cell_type": "code",
   "execution_count": null,
   "metadata": {},
   "outputs": [],
   "source": []
  }
 ],
 "metadata": {
  "kernelspec": {
   "display_name": "Python 3",
   "language": "python",
   "name": "python3"
  },
  "language_info": {
   "codemirror_mode": {
    "name": "ipython",
    "version": 3
   },
   "file_extension": ".py",
   "mimetype": "text/x-python",
   "name": "python",
   "nbconvert_exporter": "python",
   "pygments_lexer": "ipython3",
   "version": "3.8.3"
  }
 },
 "nbformat": 4,
 "nbformat_minor": 4
}
