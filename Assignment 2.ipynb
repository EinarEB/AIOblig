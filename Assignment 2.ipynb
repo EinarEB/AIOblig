{
 "cells": [
  {
   "cell_type": "code",
   "execution_count": 1,
   "metadata": {},
   "outputs": [],
   "source": [
    "import pandas as panda\n",
    "import matplotlib\n",
    "import numpy as np\n",
    "from matplotlib import pyplot as plot\n",
    "from datetime import datetime, date\n",
    "import seaborn as sns\n",
    "from sklearn.model_selection import train_test_split\n",
    "from sklearn.linear_model import LinearRegression\n",
    "from sklearn import preprocessing\n",
    "from sklearn.tree import DecisionTreeRegressor\n",
    "from sklearn.ensemble import BaggingRegressor\n",
    "from sklearn.metrics import r2_score"
   ]
  },
  {
   "cell_type": "code",
   "execution_count": 2,
   "metadata": {},
   "outputs": [],
   "source": [
    "#dataframe = panda.read_csv(\"NAS.csv\", sep=',', engine='python', parse_dates=['Date'], index_col=['Date'])\n",
    "dataframe = panda.read_csv(\"NAS.csv\", sep=',', engine='python')"
   ]
  },
  {
   "cell_type": "code",
   "execution_count": 3,
   "metadata": {},
   "outputs": [],
   "source": [
    "#We are only interested in the Date and the Adj Close value\n",
    "#Dropping unnecessary columns\n",
    "dataframe = dataframe.drop(['Open', 'High', 'Low', 'Close', 'Volume'], axis=1)"
   ]
  },
  {
   "cell_type": "code",
   "execution_count": 4,
   "metadata": {},
   "outputs": [],
   "source": [
    "#Using feature engineering to extract information from the date\n",
    "dataframe['Date'] = panda.to_datetime(dataframe['Date'])\n",
    "dataframe['Year'] = dataframe['Date'].dt.year\n",
    "dataframe['Month'] = dataframe['Date'].dt.month\n",
    "dataframe['Day'] = dataframe['Date'].dt.day\n",
    "dataframe['Weekday'] = dataframe['Date'].dt.day_name()\n",
    "encoded_columns = panda.get_dummies(dataframe['Weekday'])\n",
    "dataframe = dataframe.join(encoded_columns).drop('Weekday', axis=1)\n",
    "\n",
    "#Setting the date as the index\n",
    "dataframe.index = dataframe['Date']\n",
    "dataframe = dataframe.drop(['Date'], axis=1)"
   ]
  },
  {
   "cell_type": "code",
   "execution_count": 5,
   "metadata": {
    "scrolled": true
   },
   "outputs": [
    {
     "data": {
      "text/html": [
       "<div>\n",
       "<style scoped>\n",
       "    .dataframe tbody tr th:only-of-type {\n",
       "        vertical-align: middle;\n",
       "    }\n",
       "\n",
       "    .dataframe tbody tr th {\n",
       "        vertical-align: top;\n",
       "    }\n",
       "\n",
       "    .dataframe thead th {\n",
       "        text-align: right;\n",
       "    }\n",
       "</style>\n",
       "<table border=\"1\" class=\"dataframe\">\n",
       "  <thead>\n",
       "    <tr style=\"text-align: right;\">\n",
       "      <th></th>\n",
       "      <th>Adj Close</th>\n",
       "      <th>Year</th>\n",
       "      <th>Month</th>\n",
       "      <th>Day</th>\n",
       "      <th>Friday</th>\n",
       "      <th>Monday</th>\n",
       "      <th>Thursday</th>\n",
       "      <th>Tuesday</th>\n",
       "      <th>Wednesday</th>\n",
       "    </tr>\n",
       "    <tr>\n",
       "      <th>Date</th>\n",
       "      <th></th>\n",
       "      <th></th>\n",
       "      <th></th>\n",
       "      <th></th>\n",
       "      <th></th>\n",
       "      <th></th>\n",
       "      <th></th>\n",
       "      <th></th>\n",
       "      <th></th>\n",
       "    </tr>\n",
       "  </thead>\n",
       "  <tbody>\n",
       "    <tr>\n",
       "      <th>2003-12-18</th>\n",
       "      <td>19.139799</td>\n",
       "      <td>2003</td>\n",
       "      <td>12</td>\n",
       "      <td>18</td>\n",
       "      <td>0</td>\n",
       "      <td>0</td>\n",
       "      <td>1</td>\n",
       "      <td>0</td>\n",
       "      <td>0</td>\n",
       "    </tr>\n",
       "    <tr>\n",
       "      <th>2003-12-19</th>\n",
       "      <td>18.454201</td>\n",
       "      <td>2003</td>\n",
       "      <td>12</td>\n",
       "      <td>19</td>\n",
       "      <td>1</td>\n",
       "      <td>0</td>\n",
       "      <td>0</td>\n",
       "      <td>0</td>\n",
       "      <td>0</td>\n",
       "    </tr>\n",
       "    <tr>\n",
       "      <th>2003-12-22</th>\n",
       "      <td>18.054300</td>\n",
       "      <td>2003</td>\n",
       "      <td>12</td>\n",
       "      <td>22</td>\n",
       "      <td>0</td>\n",
       "      <td>1</td>\n",
       "      <td>0</td>\n",
       "      <td>0</td>\n",
       "      <td>0</td>\n",
       "    </tr>\n",
       "    <tr>\n",
       "      <th>2003-12-23</th>\n",
       "      <td>17.425800</td>\n",
       "      <td>2003</td>\n",
       "      <td>12</td>\n",
       "      <td>23</td>\n",
       "      <td>0</td>\n",
       "      <td>0</td>\n",
       "      <td>0</td>\n",
       "      <td>1</td>\n",
       "      <td>0</td>\n",
       "    </tr>\n",
       "    <tr>\n",
       "      <th>2003-12-24</th>\n",
       "      <td>NaN</td>\n",
       "      <td>2003</td>\n",
       "      <td>12</td>\n",
       "      <td>24</td>\n",
       "      <td>0</td>\n",
       "      <td>0</td>\n",
       "      <td>0</td>\n",
       "      <td>0</td>\n",
       "      <td>1</td>\n",
       "    </tr>\n",
       "    <tr>\n",
       "      <th>...</th>\n",
       "      <td>...</td>\n",
       "      <td>...</td>\n",
       "      <td>...</td>\n",
       "      <td>...</td>\n",
       "      <td>...</td>\n",
       "      <td>...</td>\n",
       "      <td>...</td>\n",
       "      <td>...</td>\n",
       "      <td>...</td>\n",
       "    </tr>\n",
       "    <tr>\n",
       "      <th>2020-10-12</th>\n",
       "      <td>0.676800</td>\n",
       "      <td>2020</td>\n",
       "      <td>10</td>\n",
       "      <td>12</td>\n",
       "      <td>0</td>\n",
       "      <td>1</td>\n",
       "      <td>0</td>\n",
       "      <td>0</td>\n",
       "      <td>0</td>\n",
       "    </tr>\n",
       "    <tr>\n",
       "      <th>2020-10-13</th>\n",
       "      <td>0.600600</td>\n",
       "      <td>2020</td>\n",
       "      <td>10</td>\n",
       "      <td>13</td>\n",
       "      <td>0</td>\n",
       "      <td>0</td>\n",
       "      <td>0</td>\n",
       "      <td>1</td>\n",
       "      <td>0</td>\n",
       "    </tr>\n",
       "    <tr>\n",
       "      <th>2020-10-14</th>\n",
       "      <td>0.626000</td>\n",
       "      <td>2020</td>\n",
       "      <td>10</td>\n",
       "      <td>14</td>\n",
       "      <td>0</td>\n",
       "      <td>0</td>\n",
       "      <td>0</td>\n",
       "      <td>0</td>\n",
       "      <td>1</td>\n",
       "    </tr>\n",
       "    <tr>\n",
       "      <th>2020-10-15</th>\n",
       "      <td>0.605000</td>\n",
       "      <td>2020</td>\n",
       "      <td>10</td>\n",
       "      <td>15</td>\n",
       "      <td>0</td>\n",
       "      <td>0</td>\n",
       "      <td>1</td>\n",
       "      <td>0</td>\n",
       "      <td>0</td>\n",
       "    </tr>\n",
       "    <tr>\n",
       "      <th>2020-10-16</th>\n",
       "      <td>0.610600</td>\n",
       "      <td>2020</td>\n",
       "      <td>10</td>\n",
       "      <td>16</td>\n",
       "      <td>1</td>\n",
       "      <td>0</td>\n",
       "      <td>0</td>\n",
       "      <td>0</td>\n",
       "      <td>0</td>\n",
       "    </tr>\n",
       "  </tbody>\n",
       "</table>\n",
       "<p>4253 rows × 9 columns</p>\n",
       "</div>"
      ],
      "text/plain": [
       "            Adj Close  Year  Month  Day  Friday  Monday  Thursday  Tuesday  \\\n",
       "Date                                                                         \n",
       "2003-12-18  19.139799  2003     12   18       0       0         1        0   \n",
       "2003-12-19  18.454201  2003     12   19       1       0         0        0   \n",
       "2003-12-22  18.054300  2003     12   22       0       1         0        0   \n",
       "2003-12-23  17.425800  2003     12   23       0       0         0        1   \n",
       "2003-12-24        NaN  2003     12   24       0       0         0        0   \n",
       "...               ...   ...    ...  ...     ...     ...       ...      ...   \n",
       "2020-10-12   0.676800  2020     10   12       0       1         0        0   \n",
       "2020-10-13   0.600600  2020     10   13       0       0         0        1   \n",
       "2020-10-14   0.626000  2020     10   14       0       0         0        0   \n",
       "2020-10-15   0.605000  2020     10   15       0       0         1        0   \n",
       "2020-10-16   0.610600  2020     10   16       1       0         0        0   \n",
       "\n",
       "            Wednesday  \n",
       "Date                   \n",
       "2003-12-18          0  \n",
       "2003-12-19          0  \n",
       "2003-12-22          0  \n",
       "2003-12-23          0  \n",
       "2003-12-24          1  \n",
       "...               ...  \n",
       "2020-10-12          0  \n",
       "2020-10-13          0  \n",
       "2020-10-14          1  \n",
       "2020-10-15          0  \n",
       "2020-10-16          0  \n",
       "\n",
       "[4253 rows x 9 columns]"
      ]
     },
     "execution_count": 5,
     "metadata": {},
     "output_type": "execute_result"
    }
   ],
   "source": [
    "dataframe"
   ]
  },
  {
   "cell_type": "code",
   "execution_count": 6,
   "metadata": {},
   "outputs": [
    {
     "data": {
      "text/plain": [
       "(4253, 9)"
      ]
     },
     "execution_count": 6,
     "metadata": {},
     "output_type": "execute_result"
    }
   ],
   "source": [
    "dataframe.shape"
   ]
  },
  {
   "cell_type": "code",
   "execution_count": 7,
   "metadata": {},
   "outputs": [
    {
     "data": {
      "text/plain": [
       "Adj Close    35\n",
       "Year          0\n",
       "Month         0\n",
       "Day           0\n",
       "Friday        0\n",
       "Monday        0\n",
       "Thursday      0\n",
       "Tuesday       0\n",
       "Wednesday     0\n",
       "dtype: int64"
      ]
     },
     "execution_count": 7,
     "metadata": {},
     "output_type": "execute_result"
    }
   ],
   "source": [
    "#Checking for null values\n",
    "dataframe.isnull().sum()"
   ]
  },
  {
   "cell_type": "code",
   "execution_count": 8,
   "metadata": {},
   "outputs": [
    {
     "data": {
      "text/plain": [
       "Adj Close    0\n",
       "Year         0\n",
       "Month        0\n",
       "Day          0\n",
       "Friday       0\n",
       "Monday       0\n",
       "Thursday     0\n",
       "Tuesday      0\n",
       "Wednesday    0\n",
       "dtype: int64"
      ]
     },
     "execution_count": 8,
     "metadata": {},
     "output_type": "execute_result"
    }
   ],
   "source": [
    "#Remove null values\n",
    "#Dropping the rows where at least one element is missing\n",
    "dataframe.dropna(inplace = True)\n",
    "dataframe.isnull().sum()"
   ]
  },
  {
   "cell_type": "code",
   "execution_count": 9,
   "metadata": {},
   "outputs": [
    {
     "name": "stdout",
     "output_type": "stream",
     "text": [
      "First date: 2003-12-18 00:00:00\n",
      "Last date: 2020-10-16 00:00:00\n",
      "days elapsed:  6147 days 00:00:00\n"
     ]
    }
   ],
   "source": [
    "min_date = dataframe.index.min()\n",
    "max_date = dataframe.index.max()\n",
    "\n",
    "print('First date:', min_date)\n",
    "print('Last date:', max_date)\n",
    "print('days elapsed: ', max_date-min_date)"
   ]
  },
  {
   "cell_type": "code",
   "execution_count": 10,
   "metadata": {
    "scrolled": false
   },
   "outputs": [
    {
     "data": {
      "text/plain": [
       "<matplotlib.axes._subplots.AxesSubplot at 0x7f84741e26a0>"
      ]
     },
     "execution_count": 10,
     "metadata": {},
     "output_type": "execute_result"
    },
    {
     "data": {
      "image/png": "[encoded data removed]",
      "text/plain": [
       "<Figure size 864x576 with 1 Axes>"
      ]
     },
     "metadata": {
      "needs_background": "light"
     },
     "output_type": "display_data"
    }
   ],
   "source": [
    "dataframe.plot.line(y=['Adj Close'], figsize=(12,8))"
   ]
  },
  {
   "cell_type": "code",
   "execution_count": 11,
   "metadata": {},
   "outputs": [],
   "source": [
    "#We are dealing with a continous quantity \n",
    "#We want to predict the future value, so using regression makes more sense.\n",
    "#If we wanted to predict if the price will increase or decrease we should use classification\n",
    "\n",
    "#Splitting the dataframe into x and y values and further dividing the values into train and test\n",
    "x = dataframe.drop('Adj Close', axis=1)\n",
    "y = dataframe['Adj Close']\n",
    "\n",
    "x_train, x_test, y_train , y_test = train_test_split(x, y, test_size=0.1)"
   ]
  },
  {
   "cell_type": "code",
   "execution_count": 12,
   "metadata": {},
   "outputs": [
    {
     "data": {
      "text/plain": [
       "((3796, 8), (3796,))"
      ]
     },
     "execution_count": 12,
     "metadata": {},
     "output_type": "execute_result"
    }
   ],
   "source": [
    "x_train.shape, y_train.shape"
   ]
  },
  {
   "cell_type": "code",
   "execution_count": 13,
   "metadata": {},
   "outputs": [
    {
     "data": {
      "text/plain": [
       "((422, 8), (422,))"
      ]
     },
     "execution_count": 13,
     "metadata": {},
     "output_type": "execute_result"
    }
   ],
   "source": [
    "x_test.shape, y_test.shape"
   ]
  },
  {
   "cell_type": "code",
   "execution_count": 14,
   "metadata": {},
   "outputs": [
    {
     "data": {
      "text/plain": [
       "LinearRegression(normalize=True)"
      ]
     },
     "execution_count": 14,
     "metadata": {},
     "output_type": "execute_result"
    }
   ],
   "source": [
    "model = LinearRegression(normalize=True)\n",
    "model.fit(x_train,y_train)"
   ]
  },
  {
   "cell_type": "code",
   "execution_count": 15,
   "metadata": {},
   "outputs": [
    {
     "name": "stdout",
     "output_type": "stream",
     "text": [
      "Traning score:  0.2420635246826387\n"
     ]
    }
   ],
   "source": [
    "print('Traning score: ', model.score(x_train, y_train))"
   ]
  },
  {
   "cell_type": "code",
   "execution_count": 16,
   "metadata": {},
   "outputs": [],
   "source": [
    "y_pred = model.predict(x_test)"
   ]
  },
  {
   "cell_type": "code",
   "execution_count": 17,
   "metadata": {},
   "outputs": [
    {
     "data": {
      "image/png": "[encoded data removed]",
      "text/plain": [
       "<Figure size 864x576 with 1 Axes>"
      ]
     },
     "metadata": {
      "needs_background": "light"
     },
     "output_type": "display_data"
    }
   ],
   "source": [
    "#Plotting the model alongside the actual values\n",
    "fig, ax = plot.subplots(figsize = (12,8))\n",
    "plot.scatter(x_train.index, y_train)\n",
    "plot.scatter(x_test.index,y_pred, color='r')\n",
    "plot.xlabel('Date')\n",
    "plot.ylabel('Close')\n",
    "plot.show()"
   ]
  },
  {
   "cell_type": "code",
   "execution_count": null,
   "metadata": {},
   "outputs": [],
   "source": []
  }
 ],
 "metadata": {
  "kernelspec": {
   "display_name": "Python 3",
   "language": "python",
   "name": "python3"
  },
  "language_info": {
   "codemirror_mode": {
    "name": "ipython",
    "version": 3
   },
   "file_extension": ".py",
   "mimetype": "text/x-python",
   "name": "python",
   "nbconvert_exporter": "python",
   "pygments_lexer": "ipython3",
   "version": "3.8.3"
  }
 },
 "nbformat": 4,
 "nbformat_minor": 4
}
